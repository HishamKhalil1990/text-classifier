{
 "cells": [
  {
   "cell_type": "code",
   "execution_count": 2,
   "id": "d4e7efd2-a1cf-4e39-a2f4-10f9b024918c",
   "metadata": {},
   "outputs": [],
   "source": [
    "import pandas as pd\n",
    "from sklearn.feature_extraction.text import CountVectorizer\n",
    "from sklearn.model_selection import train_test_split\n",
    "from sklearn.linear_model import LogisticRegression"
   ]
  },
  {
   "cell_type": "code",
   "execution_count": 3,
   "id": "b947990e-88f1-496b-a6ee-819d11f4a3f0",
   "metadata": {},
   "outputs": [
    {
     "output_type": "execute_result",
     "data": {
      "text/plain": [
       "                                            sentence  label source\n",
       "0                           Wow... Loved this place.      1   yelp\n",
       "1                                 Crust is not good.      0   yelp\n",
       "2          Not tasty and the texture was just nasty.      0   yelp\n",
       "3  Stopped by during the late May bank holiday of...      1   yelp\n",
       "4  The selection on the menu was great and so wer...      1   yelp"
      ],
      "text/html": "<div>\n<style scoped>\n    .dataframe tbody tr th:only-of-type {\n        vertical-align: middle;\n    }\n\n    .dataframe tbody tr th {\n        vertical-align: top;\n    }\n\n    .dataframe thead th {\n        text-align: right;\n    }\n</style>\n<table border=\"1\" class=\"dataframe\">\n  <thead>\n    <tr style=\"text-align: right;\">\n      <th></th>\n      <th>sentence</th>\n      <th>label</th>\n      <th>source</th>\n    </tr>\n  </thead>\n  <tbody>\n    <tr>\n      <th>0</th>\n      <td>Wow... Loved this place.</td>\n      <td>1</td>\n      <td>yelp</td>\n    </tr>\n    <tr>\n      <th>1</th>\n      <td>Crust is not good.</td>\n      <td>0</td>\n      <td>yelp</td>\n    </tr>\n    <tr>\n      <th>2</th>\n      <td>Not tasty and the texture was just nasty.</td>\n      <td>0</td>\n      <td>yelp</td>\n    </tr>\n    <tr>\n      <th>3</th>\n      <td>Stopped by during the late May bank holiday of...</td>\n      <td>1</td>\n      <td>yelp</td>\n    </tr>\n    <tr>\n      <th>4</th>\n      <td>The selection on the menu was great and so wer...</td>\n      <td>1</td>\n      <td>yelp</td>\n    </tr>\n  </tbody>\n</table>\n</div>"
     },
     "metadata": {},
     "execution_count": 3
    }
   ],
   "source": [
    "filepath_dict = {'yelp':   './yelp_labelled.txt',\n",
    "                 'amazon': './amazon_cells_labelled.txt',\n",
    "                 'imdb':   './imdb_labelled.txt'}\n",
    "df_list = []\n",
    "for source, filepath in filepath_dict.items():\n",
    "    df = pd.read_csv(filepath, names=['sentence', 'label'], sep='\\t')\n",
    "    df['source'] = source \n",
    "    df_list.append(df)\n",
    "df = pd.concat(df_list)\n",
    "df.head(5)"
   ]
  },
  {
   "cell_type": "markdown",
   "id": "15840bc3-35b6-438f-a701-8f4740be7715",
   "metadata": {},
   "source": [
    "## models(for yelp, amazon, imdb) accurecy related to X_test, y_test from splitting"
   ]
  },
  {
   "cell_type": "code",
   "execution_count": 4,
   "id": "856e2587-b71f-44b8-8fdf-397107e3eee6",
   "metadata": {},
   "outputs": [
    {
     "output_type": "stream",
     "name": "stdout",
     "text": [
      "for yelp the model accurcy was 80.33333333333333%\n",
      "for amazon the model accurcy was 78.0%\n",
      "for imdb the model accurcy was 77.33333333333333%\n"
     ]
    }
   ],
   "source": [
    "vector = CountVectorizer()\n",
    "for source in df['source'].unique():\n",
    "    df2 = df[df['source'] == source]\n",
    "    sentence = df2['sentence'].values\n",
    "    vector.fit(sentence)\n",
    "    X = vector.transform(sentence)\n",
    "    y = df2['label'].values\n",
    "    X_train, X_test, y_train, y_test = train_test_split(X,y,test_size = 0.3,random_state = 1000)\n",
    "    model = LogisticRegression()\n",
    "    model.fit(X_train,y_train)\n",
    "    score = model.score(X_test,y_test) \n",
    "    print(f\"for {source} the model accurcy was {score*100}%\")"
   ]
  },
  {
   "cell_type": "markdown",
   "id": "768cf595-b2d7-4ef6-8b84-fc4bd36c40ab",
   "metadata": {},
   "source": [
    "## models (for yelp, amazon, imdb) accurecy related to my sentences"
   ]
  },
  {
   "cell_type": "code",
   "execution_count": 5,
   "id": "82de3813-b32e-4078-a8fc-660f93aabd2e",
   "metadata": {},
   "outputs": [
    {
     "output_type": "stream",
     "name": "stdout",
     "text": [
      "for yelp the model accurcy was 80.0%\n",
      "for amazon the model accurcy was 60.0%\n",
      "for imdb the model accurcy was 80.0%\n"
     ]
    }
   ],
   "source": [
    "my_sentence = [\"this food seems good\",'i didn\\'t like that movie','i recommend this product','wow!! my dog loved your food','this product looks good but it dosen\\'t worth that much' ]\n",
    "for source in df['source'].unique():\n",
    "    df2 = df[df['source'] == source]\n",
    "    sentence = df2['sentence'].values\n",
    "    vector.fit(sentence)\n",
    "    X_mytest = vector.transform(my_sentence)\n",
    "    y_mytest = [1,0,1,0,0]\n",
    "    X = vector.transform(sentence)\n",
    "    y = df2['label'].values\n",
    "    X_train, X_test, y_train, y_test = train_test_split(X,y,test_size = 0.3,random_state = 1000)\n",
    "    model = LogisticRegression()\n",
    "    model.fit(X_train,y_train)\n",
    "    score =model.score(X_mytest,y_mytest) \n",
    "    print(f\"for {source} the model accurcy was {score*100}%\") "
   ]
  },
  {
   "cell_type": "markdown",
   "id": "5cff1e39-dd8e-46ce-92eb-df7708659661",
   "metadata": {},
   "source": [
    "## model (all together) accurecy related to my sentences"
   ]
  },
  {
   "cell_type": "code",
   "execution_count": 6,
   "id": "633cfabf-8377-4995-9b0c-d879e27bdd27",
   "metadata": {},
   "outputs": [
    {
     "output_type": "stream",
     "name": "stdout",
     "text": [
      "the model accurcy was 60.0%\n"
     ]
    }
   ],
   "source": [
    "vector2 = CountVectorizer()\n",
    "sentence = df['sentence'].values\n",
    "vector2.fit(sentence)\n",
    "X = vector2.transform(sentence)\n",
    "y = df['label'].values\n",
    "X_mytest = vector2.transform(my_sentence)\n",
    "y_mytest = [1,0,1,0,0]\n",
    "X_train, X_test, y_train, y_test = train_test_split(X,y,test_size = 0.3,random_state = 1000)\n",
    "model2 = LogisticRegression()\n",
    "model2.fit(X_train,y_train)\n",
    "score =model2.score(X_mytest,y_mytest) \n",
    "print(f\"the model accurcy was {score*100}%\") "
   ]
  },
  {
   "cell_type": "code",
   "execution_count": null,
   "id": "9d4c0841-5b7c-435f-9ad9-3fa1a17a0203",
   "metadata": {},
   "outputs": [],
   "source": []
  }
 ],
 "metadata": {
  "kernelspec": {
   "display_name": "Python 3",
   "language": "python",
   "name": "python3"
  },
  "language_info": {
   "codemirror_mode": {
    "name": "ipython",
    "version": 3
   },
   "file_extension": ".py",
   "mimetype": "text/x-python",
   "name": "python",
   "nbconvert_exporter": "python",
   "pygments_lexer": "ipython3",
   "version": "3.8.5"
  }
 },
 "nbformat": 4,
 "nbformat_minor": 5
}